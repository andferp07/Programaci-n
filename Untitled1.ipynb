{
  "nbformat": 4,
  "nbformat_minor": 0,
  "metadata": {
    "colab": {
      "provenance": [],
      "authorship_tag": "ABX9TyO0ooOLJ/zWYpLQWOqCf5Uf",
      "include_colab_link": true
    },
    "kernelspec": {
      "name": "python3",
      "display_name": "Python 3"
    },
    "language_info": {
      "name": "python"
    }
  },
  "cells": [
    {
      "cell_type": "markdown",
      "metadata": {
        "id": "view-in-github",
        "colab_type": "text"
      },
      "source": [
        "<a href=\"https://colab.research.google.com/github/andferp07/Programaci-n/blob/main/Untitled1.ipynb\" target=\"_parent\"><img src=\"https://colab.research.google.com/assets/colab-badge.svg\" alt=\"Open In Colab\"/></a>"
      ]
    },
    {
      "cell_type": "code",
      "execution_count": null,
      "metadata": {
        "id": "VHD3d33TaNwK"
      },
      "outputs": [],
      "source": [
        "Proceso DeterminarNumerosPrimos\n",
        "    Definir NumeroIngresado, iteracion, DivisionResiduoCero Como Entero;\n",
        "    Escribir \"Determinar si NumeroIngresado es un numero Primo. \";\n",
        "    Escribir \"Teclea un numero entero\";\n",
        "    Leer NumeroIngresado;\n",
        "\n",
        "    //Comenzaremos dividiendo el numero ingresado entre 1\n",
        "    iteracion = 1;\n",
        "\n",
        "    //numero de ocasiones en las que la division dio como resultado un residuo de cero\n",
        "    DivisionResiduoCero = 0;\n",
        "\n",
        "    Mientras iteracion <- NumeroIngresado Hacer\n",
        "\t\tSi (NumeroIngresado / iteracion == 0)\n",
        "            DivisionResiduoCero = DivisionResiduoCero + 1;\n",
        "        FinSi\n",
        "        iteracion = iteracion + 1;\n",
        "    FinMientras\n",
        "\n",
        "    Si(DivisionResiduoCero == 2) Entonces\n",
        "        Escribir \"El numero ingresado es primo\";\n",
        "    SiNo\n",
        "        Escribir \"El numero ingresado no es primo\";\n",
        "    FinSi\n",
        "FinProceso\n"
      ]
    },
    {
      "cell_type": "code",
      "source": [
        "#DeterminarNumerosPrimos\n",
        "#Definir variables\n",
        "continuar = \"S\"\n",
        "while continuar . upper ( ) != \"N\":\n",
        "\n",
        "    #Pedir datos al usuario\n",
        "    numero = int(input(\"Ingrese un numero: \"))\n",
        "\n",
        "    if numero <= 1:\n",
        "        EsPrimo = False\n",
        "    else:\n",
        "        EsPrimo = True\n",
        "        LimiteSuperior = int(numero ** 0.5)\n",
        "        for i in range(2, LimiteSuperior):\n",
        "            if numero % i == 0:\n",
        "                EsPrimo = False\n",
        "                break\n",
        "    if EsPrimo:\n",
        "        print(\"El numero es primo.\")\n",
        "    else:\n",
        "        print(\"El numero no es primo.\")\n",
        "\n",
        "#Preguntar al usuario si desea continuar\n",
        "    continuar=input (\"Continuar ? [S/N]:\")"
      ],
      "metadata": {
        "id": "0idVnJQcediA"
      },
      "execution_count": null,
      "outputs": []
    }
  ]
}